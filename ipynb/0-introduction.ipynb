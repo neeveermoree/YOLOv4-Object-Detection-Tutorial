{
 "metadata": {
  "language_info": {
   "codemirror_mode": {
    "name": "ipython",
    "version": 3
   },
   "file_extension": ".py",
   "mimetype": "text/x-python",
   "name": "python",
   "nbconvert_exporter": "python",
   "pygments_lexer": "ipython3",
   "version": 3
  },
  "orig_nbformat": 2
 },
 "nbformat": 4,
 "nbformat_minor": 2,
 "cells": [
  {
   "source": [
    "# Lesson 0\n",
    "## The main purpose of the original paper was to create fast and accurate real-time detector using only one GPU. The computations in algorithm should be parallelized as much as it posible. Also, the training process had to be proper and clear as is the use of the algorithm for inference.\n",
    "## As a result the authors achieved the following:\n",
    "### 1) Optimal tradeoff between speed and model performance is achieved. (All you need for training is 1080 Ti or 2080 Ti).\n",
    "### 2) Comparison and evaluation of Bag-of-Freebies and Bag-of-Specials methods.\n",
    "### 3) Reconstruction of current SotA methods to perform efficiently on a single GPU.\n",
    "## As stated in the original paper the YOLOv4 algorithm consists of 4 parts:\n",
    "### 1) [Backbone (CSPDarknet53)](./1-backbone.ipynb).\n",
    "### 2) SPP additional module.\n",
    "### 3) PANet path-aggregation neck.\n",
    "### 4) YOLOv3 head.\n"
   ],
   "cell_type": "markdown",
   "metadata": {}
  }
 ]
}