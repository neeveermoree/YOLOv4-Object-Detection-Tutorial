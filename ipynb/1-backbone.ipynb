{
 "metadata": {
  "language_info": {
   "codemirror_mode": {
    "name": "ipython",
    "version": 3
   },
   "file_extension": ".py",
   "mimetype": "text/x-python",
   "name": "python",
   "nbconvert_exporter": "python",
   "pygments_lexer": "ipython3",
   "version": 3
  },
  "orig_nbformat": 2
 },
 "nbformat": 4,
 "nbformat_minor": 2,
 "cells": [
  {
   "source": [
    "# Lesson 1\n",
    "## Backbone\n",
    "### The image below illustrates the architecture of YOLOv4 backbone:\n",
    "\n",
    "![](../img/darknet53_architecture.png)\n",
    "\n",
    "### There is the Darknet53 architecture on the left and CSP block structure on the right.\n",
    "### These architectures are from [YOLOv3: An Incremental Improvement](https://arxiv.org/pdf/1804.02767v1.pdf) and [CSPNet: A New Backbone that can Enhance Learning Capability of CNN](https://openaccess.thecvf.com/content_CVPRW_2020/papers/w28/Wang_CSPNet_A_New_Backbone_That_Can_Enhance_Learning_Capability_of_CVPRW_2020_paper.pdf) respectively.\n",
    "Of course, between each Convolutinal layer Batch Normalization and Leaky ReLU (alpha=0.1) activation function are applied.\n",
    "\n"
   ],
   "cell_type": "markdown",
   "metadata": {}
  },
  {
   "cell_type": "code",
   "execution_count": null,
   "metadata": {},
   "outputs": [],
   "source": []
  }
 ]
}